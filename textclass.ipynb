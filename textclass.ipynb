{
 "cells": [
  {
   "cell_type": "code",
   "execution_count": 1,
   "metadata": {},
   "outputs": [
    {
     "output_type": "stream",
     "name": "stderr",
     "text": "Using TensorFlow backend.\n"
    }
   ],
   "source": [
    "import pandas as pd\n",
    "from keras import Sequential\n",
    "from keras.layers import Dense\n",
    "from sklearn.feature_extraction.text import CountVectorizer\n",
    "from sklearn.model_selection import train_test_split"
   ]
  },
  {
   "cell_type": "code",
   "execution_count": 2,
   "metadata": {},
   "outputs": [],
   "source": [
    "p1 = r\"C:\\Users\\adamd\\Downloads\\sentiment labelled sentences\\sentiment labelled sentences\\amazon_cells_labelled.txt\"\n",
    "p2 = r\"C:\\Users\\adamd\\Downloads\\sentiment labelled sentences\\sentiment labelled sentences\\imdb_labelled.txt\"\n",
    "p3 = r\"C:\\Users\\adamd\\Downloads\\sentiment labelled sentences\\sentiment labelled sentences\\yelp_labelled.txt\""
   ]
  },
  {
   "cell_type": "code",
   "execution_count": 3,
   "metadata": {},
   "outputs": [],
   "source": [
    "d1 = pd.read_csv(p1, names=['sentence', 'label'], sep='\\t')\n",
    "d2 = pd.read_csv(p2, names=['sentence', 'label'], sep='\\t')\n",
    "d3 = pd.read_csv(p3, names=['sentence', 'label'], sep='\\t')"
   ]
  },
  {
   "cell_type": "code",
   "execution_count": 4,
   "metadata": {},
   "outputs": [],
   "source": [
    "df = pd.concat([d1, d2, d3])"
   ]
  },
  {
   "cell_type": "code",
   "execution_count": 5,
   "metadata": {},
   "outputs": [
    {
     "output_type": "execute_result",
     "data": {
      "text/plain": "                                            sentence  label\n0  So there is no way for me to plug it in here i...      0\n1                        Good case, Excellent value.      1\n2                             Great for the jawbone.      1\n3  Tied to charger for conversations lasting more...      0\n4                                  The mic is great.      1",
      "text/html": "<div>\n<style scoped>\n    .dataframe tbody tr th:only-of-type {\n        vertical-align: middle;\n    }\n\n    .dataframe tbody tr th {\n        vertical-align: top;\n    }\n\n    .dataframe thead th {\n        text-align: right;\n    }\n</style>\n<table border=\"1\" class=\"dataframe\">\n  <thead>\n    <tr style=\"text-align: right;\">\n      <th></th>\n      <th>sentence</th>\n      <th>label</th>\n    </tr>\n  </thead>\n  <tbody>\n    <tr>\n      <th>0</th>\n      <td>So there is no way for me to plug it in here i...</td>\n      <td>0</td>\n    </tr>\n    <tr>\n      <th>1</th>\n      <td>Good case, Excellent value.</td>\n      <td>1</td>\n    </tr>\n    <tr>\n      <th>2</th>\n      <td>Great for the jawbone.</td>\n      <td>1</td>\n    </tr>\n    <tr>\n      <th>3</th>\n      <td>Tied to charger for conversations lasting more...</td>\n      <td>0</td>\n    </tr>\n    <tr>\n      <th>4</th>\n      <td>The mic is great.</td>\n      <td>1</td>\n    </tr>\n  </tbody>\n</table>\n</div>"
     },
     "metadata": {},
     "execution_count": 5
    }
   ],
   "source": [
    "df.head()"
   ]
  },
  {
   "cell_type": "code",
   "execution_count": 6,
   "metadata": {},
   "outputs": [
    {
     "output_type": "execute_result",
     "data": {
      "text/plain": "             label\ncount  2748.000000\nmean      0.504367\nstd       0.500072\nmin       0.000000\n25%       0.000000\n50%       1.000000\n75%       1.000000\nmax       1.000000",
      "text/html": "<div>\n<style scoped>\n    .dataframe tbody tr th:only-of-type {\n        vertical-align: middle;\n    }\n\n    .dataframe tbody tr th {\n        vertical-align: top;\n    }\n\n    .dataframe thead th {\n        text-align: right;\n    }\n</style>\n<table border=\"1\" class=\"dataframe\">\n  <thead>\n    <tr style=\"text-align: right;\">\n      <th></th>\n      <th>label</th>\n    </tr>\n  </thead>\n  <tbody>\n    <tr>\n      <th>count</th>\n      <td>2748.000000</td>\n    </tr>\n    <tr>\n      <th>mean</th>\n      <td>0.504367</td>\n    </tr>\n    <tr>\n      <th>std</th>\n      <td>0.500072</td>\n    </tr>\n    <tr>\n      <th>min</th>\n      <td>0.000000</td>\n    </tr>\n    <tr>\n      <th>25%</th>\n      <td>0.000000</td>\n    </tr>\n    <tr>\n      <th>50%</th>\n      <td>1.000000</td>\n    </tr>\n    <tr>\n      <th>75%</th>\n      <td>1.000000</td>\n    </tr>\n    <tr>\n      <th>max</th>\n      <td>1.000000</td>\n    </tr>\n  </tbody>\n</table>\n</div>"
     },
     "metadata": {},
     "execution_count": 6
    }
   ],
   "source": [
    "df.describe()"
   ]
  },
  {
   "cell_type": "code",
   "execution_count": 7,
   "metadata": {},
   "outputs": [],
   "source": [
    "xt, x, yt, y = train_test_split(df.sentence.values, df.label.values)"
   ]
  },
  {
   "cell_type": "code",
   "execution_count": 8,
   "metadata": {},
   "outputs": [],
   "source": [
    "cv = CountVectorizer()\n",
    "cv.fit(xt)\n",
    "xt = cv.transform(xt)\n",
    "x = cv.transform(x)"
   ]
  },
  {
   "cell_type": "code",
   "execution_count": 9,
   "metadata": {},
   "outputs": [
    {
     "output_type": "stream",
     "name": "stdout",
     "text": "WARNING:tensorflow:From C:\\Users\\adamd\\anaconda3\\lib\\site-packages\\tensorflow\\python\\ops\\nn_impl.py:180: add_dispatch_support.<locals>.wrapper (from tensorflow.python.ops.array_ops) is deprecated and will be removed in a future version.\nInstructions for updating:\nUse tf.where in 2.0, which has the same broadcast rule as np.where\n"
    }
   ],
   "source": [
    "model = Sequential()\n",
    "model.add(Dense(5, input_dim=xt.shape[1], activation='sigmoid'))\n",
    "model.add(Dense(25, activation='sigmoid'))\n",
    "model.add(Dense(1, activation='sigmoid'))\n",
    "model.compile(optimizer='adam', loss='binary_crossentropy', metrics=['accuracy'])"
   ]
  },
  {
   "cell_type": "code",
   "execution_count": 10,
   "metadata": {},
   "outputs": [
    {
     "output_type": "stream",
     "name": "stdout",
     "text": "Model: \"sequential_1\"\n_________________________________________________________________\nLayer (type)                 Output Shape              Param #   \n=================================================================\ndense_1 (Dense)              (None, 5)                 21720     \n_________________________________________________________________\ndense_2 (Dense)              (None, 25)                150       \n_________________________________________________________________\ndense_3 (Dense)              (None, 1)                 26        \n=================================================================\nTotal params: 21,896\nTrainable params: 21,896\nNon-trainable params: 0\n_________________________________________________________________\n"
    }
   ],
   "source": [
    "model.summary()"
   ]
  },
  {
   "cell_type": "code",
   "execution_count": 11,
   "metadata": {
    "tags": [
     "outputPrepend",
     "outputPrepend",
     "outputPrepend",
     "outputPrepend",
     "outputPrepend",
     "outputPrepend",
     "outputPrepend",
     "outputPrepend",
     "outputPrepend",
     "outputPrepend",
     "outputPrepend",
     "outputPrepend",
     "outputPrepend",
     "outputPrepend",
     "outputPrepend",
     "outputPrepend",
     "outputPrepend",
     "outputPrepend",
     "outputPrepend",
     "outputPrepend",
     "outputPrepend",
     "outputPrepend",
     "outputPrepend",
     "outputPrepend",
     "outputPrepend",
     "outputPrepend",
     "outputPrepend",
     "outputPrepend",
     "outputPrepend",
     "outputPrepend",
     "outputPrepend",
     "outputPrepend",
     "outputPrepend",
     "outputPrepend",
     "outputPrepend",
     "outputPrepend",
     "outputPrepend",
     "outputPrepend",
     "outputPrepend",
     "outputPrepend",
     "outputPrepend",
     "outputPrepend",
     "outputPrepend"
    ]
   },
   "outputs": [
    {
     "output_type": "stream",
     "name": "stdout",
     "text": ": 0.9976\nEpoch 22/150\n2061/2061 [==============================] - 1s 252us/step - loss: 0.0210 - accuracy: 0.9971 - val_loss: 0.0179 - val_accuracy: 0.9981\nEpoch 23/150\n2061/2061 [==============================] - 0s 237us/step - loss: 0.0182 - accuracy: 0.9976 - val_loss: 0.0154 - val_accuracy: 0.9990\nEpoch 24/150\n2061/2061 [==============================] - 1s 260us/step - loss: 0.0156 - accuracy: 0.9985 - val_loss: 0.0133 - val_accuracy: 0.9995\nEpoch 25/150\n2061/2061 [==============================] - 1s 253us/step - loss: 0.0134 - accuracy: 0.9995 - val_loss: 0.0116 - val_accuracy: 0.9990\nEpoch 26/150\n2061/2061 [==============================] - 1s 243us/step - loss: 0.0117 - accuracy: 0.9990 - val_loss: 0.0099 - val_accuracy: 1.0000\nEpoch 27/150\n2061/2061 [==============================] - 0s 239us/step - loss: 0.0100 - accuracy: 1.0000 - val_loss: 0.0086 - val_accuracy: 1.0000\nEpoch 28/150\n2061/2061 [==============================] - 1s 251us/step - loss: 0.0087 - accuracy: 1.0000 - val_loss: 0.0075 - val_accuracy: 1.0000\nEpoch 29/150\n2061/2061 [==============================] - 0s 239us/step - loss: 0.0076 - accuracy: 1.0000 - val_loss: 0.0065 - val_accuracy: 1.0000\nEpoch 30/150\n2061/2061 [==============================] - 0s 236us/step - loss: 0.0066 - accuracy: 1.0000 - val_loss: 0.0058 - val_accuracy: 1.0000\nEpoch 31/150\n2061/2061 [==============================] - 0s 239us/step - loss: 0.0058 - accuracy: 1.0000 - val_loss: 0.0050 - val_accuracy: 1.0000\nEpoch 32/150\n2061/2061 [==============================] - 0s 238us/step - loss: 0.0050 - accuracy: 1.0000 - val_loss: 0.0044 - val_accuracy: 1.0000\nEpoch 33/150\n2061/2061 [==============================] - 0s 240us/step - loss: 0.0044 - accuracy: 1.0000 - val_loss: 0.0038 - val_accuracy: 1.0000\nEpoch 34/150\n2061/2061 [==============================] - 0s 241us/step - loss: 0.0039 - accuracy: 1.0000 - val_loss: 0.0034 - val_accuracy: 1.0000\nEpoch 35/150\n2061/2061 [==============================] - 1s 292us/step - loss: 0.0034 - accuracy: 1.0000 - val_loss: 0.0030 - val_accuracy: 1.0000\nEpoch 36/150\n2061/2061 [==============================] - 1s 299us/step - loss: 0.0030 - accuracy: 1.0000 - val_loss: 0.0026 - val_accuracy: 1.0000\nEpoch 37/150\n2061/2061 [==============================] - 1s 318us/step - loss: 0.0026 - accuracy: 1.0000 - val_loss: 0.0024 - val_accuracy: 1.0000\nEpoch 38/150\n2061/2061 [==============================] - 1s 336us/step - loss: 0.0024 - accuracy: 1.0000 - val_loss: 0.0020 - val_accuracy: 1.0000\nEpoch 39/150\n2061/2061 [==============================] - 1s 328us/step - loss: 0.0021 - accuracy: 1.0000 - val_loss: 0.0018 - val_accuracy: 1.0000\nEpoch 40/150\n2061/2061 [==============================] - 1s 297us/step - loss: 0.0018 - accuracy: 1.0000 - val_loss: 0.0016 - val_accuracy: 1.0000\nEpoch 41/150\n2061/2061 [==============================] - 1s 295us/step - loss: 0.0016 - accuracy: 1.0000 - val_loss: 0.0014 - val_accuracy: 1.0000\nEpoch 42/150\n2061/2061 [==============================] - 1s 293us/step - loss: 0.0014 - accuracy: 1.0000 - val_loss: 0.0013 - val_accuracy: 1.0000\nEpoch 43/150\n2061/2061 [==============================] - 1s 296us/step - loss: 0.0013 - accuracy: 1.0000 - val_loss: 0.0011 - val_accuracy: 1.0000\nEpoch 44/150\n2061/2061 [==============================] - 1s 299us/step - loss: 0.0011 - accuracy: 1.0000 - val_loss: 9.7779e-04 - val_accuracy: 1.0000\nEpoch 45/150\n2061/2061 [==============================] - 1s 315us/step - loss: 0.0010 - accuracy: 1.0000 - val_loss: 8.6660e-04 - val_accuracy: 1.0000\nEpoch 46/150\n2061/2061 [==============================] - 1s 321us/step - loss: 8.8465e-04 - accuracy: 1.0000 - val_loss: 7.7621e-04 - val_accuracy: 1.0000\nEpoch 47/150\n2061/2061 [==============================] - 1s 295us/step - loss: 7.8652e-04 - accuracy: 1.0000 - val_loss: 6.8104e-04 - val_accuracy: 1.0000\nEpoch 48/150\n2061/2061 [==============================] - 1s 309us/step - loss: 6.9272e-04 - accuracy: 1.0000 - val_loss: 6.0853e-04 - val_accuracy: 1.0000\nEpoch 49/150\n2061/2061 [==============================] - 1s 327us/step - loss: 6.1887e-04 - accuracy: 1.0000 - val_loss: 5.3842e-04 - val_accuracy: 1.0000\nEpoch 50/150\n2061/2061 [==============================] - 1s 333us/step - loss: 5.4854e-04 - accuracy: 1.0000 - val_loss: 4.8314e-04 - val_accuracy: 1.0000\nEpoch 51/150\n2061/2061 [==============================] - 1s 329us/step - loss: 4.8967e-04 - accuracy: 1.0000 - val_loss: 4.3181e-04 - val_accuracy: 1.0000\nEpoch 52/150\n2061/2061 [==============================] - 1s 300us/step - loss: 4.3742e-04 - accuracy: 1.0000 - val_loss: 3.8336e-04 - val_accuracy: 1.0000\nEpoch 53/150\n2061/2061 [==============================] - 1s 326us/step - loss: 3.8889e-04 - accuracy: 1.0000 - val_loss: 3.3856e-04 - val_accuracy: 1.0000\nEpoch 54/150\n2061/2061 [==============================] - 1s 304us/step - loss: 3.4668e-04 - accuracy: 1.0000 - val_loss: 3.0167e-04 - val_accuracy: 1.0000\nEpoch 55/150\n2061/2061 [==============================] - 1s 306us/step - loss: 3.0828e-04 - accuracy: 1.0000 - val_loss: 2.6837e-04 - val_accuracy: 1.0000\nEpoch 56/150\n2061/2061 [==============================] - 1s 316us/step - loss: 2.7718e-04 - accuracy: 1.0000 - val_loss: 2.3824e-04 - val_accuracy: 1.0000\nEpoch 57/150\n2061/2061 [==============================] - 1s 303us/step - loss: 2.4101e-04 - accuracy: 1.0000 - val_loss: 2.1309e-04 - val_accuracy: 1.0000\nEpoch 58/150\n2061/2061 [==============================] - 1s 310us/step - loss: 2.1906e-04 - accuracy: 1.0000 - val_loss: 1.8968e-04 - val_accuracy: 1.0000\nEpoch 59/150\n2061/2061 [==============================] - 1s 300us/step - loss: 1.9242e-04 - accuracy: 1.0000 - val_loss: 1.6983e-04 - val_accuracy: 1.0000\nEpoch 60/150\n2061/2061 [==============================] - 1s 318us/step - loss: 1.7168e-04 - accuracy: 1.0000 - val_loss: 1.5394e-04 - val_accuracy: 1.0000\nEpoch 61/150\n2061/2061 [==============================] - 1s 367us/step - loss: 1.5468e-04 - accuracy: 1.0000 - val_loss: 1.3507e-04 - val_accuracy: 1.0000\nEpoch 62/150\n2061/2061 [==============================] - 1s 338us/step - loss: 1.3839e-04 - accuracy: 1.0000 - val_loss: 1.2066e-04 - val_accuracy: 1.0000\nEpoch 63/150\n2061/2061 [==============================] - 1s 325us/step - loss: 1.2311e-04 - accuracy: 1.0000 - val_loss: 1.0813e-04 - val_accuracy: 1.0000\nEpoch 64/150\n2061/2061 [==============================] - 1s 350us/step - loss: 1.0964e-04 - accuracy: 1.0000 - val_loss: 9.6861e-05 - val_accuracy: 1.0000\nEpoch 65/150\n2061/2061 [==============================] - 1s 339us/step - loss: 9.8299e-05 - accuracy: 1.0000 - val_loss: 8.5900e-05 - val_accuracy: 1.0000\nEpoch 66/150\n2061/2061 [==============================] - 1s 320us/step - loss: 8.8833e-05 - accuracy: 1.0000 - val_loss: 7.7209e-05 - val_accuracy: 1.0000\nEpoch 67/150\n2061/2061 [==============================] - 1s 327us/step - loss: 7.8152e-05 - accuracy: 1.0000 - val_loss: 6.8917e-05 - val_accuracy: 1.0000\nEpoch 68/150\n2061/2061 [==============================] - 1s 364us/step - loss: 7.0900e-05 - accuracy: 1.0000 - val_loss: 6.1679e-05 - val_accuracy: 1.0000\nEpoch 69/150\n2061/2061 [==============================] - 1s 327us/step - loss: 6.2302e-05 - accuracy: 1.0000 - val_loss: 5.4982e-05 - val_accuracy: 1.0000\nEpoch 70/150\n2061/2061 [==============================] - 1s 329us/step - loss: 5.5762e-05 - accuracy: 1.0000 - val_loss: 4.9425e-05 - val_accuracy: 1.0000\nEpoch 71/150\n2061/2061 [==============================] - 1s 333us/step - loss: 4.9779e-05 - accuracy: 1.0000 - val_loss: 4.4097e-05 - val_accuracy: 1.0000\nEpoch 72/150\n2061/2061 [==============================] - 1s 338us/step - loss: 4.5166e-05 - accuracy: 1.0000 - val_loss: 3.9544e-05 - val_accuracy: 1.0000\nEpoch 73/150\n2061/2061 [==============================] - 1s 340us/step - loss: 3.9774e-05 - accuracy: 1.0000 - val_loss: 3.5989e-05 - val_accuracy: 1.0000\nEpoch 74/150\n2061/2061 [==============================] - 1s 330us/step - loss: 3.6201e-05 - accuracy: 1.0000 - val_loss: 3.1985e-05 - val_accuracy: 1.0000\nEpoch 75/150\n2061/2061 [==============================] - 1s 380us/step - loss: 3.2439e-05 - accuracy: 1.0000 - val_loss: 2.8328e-05 - val_accuracy: 1.0000\nEpoch 76/150\n2061/2061 [==============================] - 1s 342us/step - loss: 2.8886e-05 - accuracy: 1.0000 - val_loss: 2.5263e-05 - val_accuracy: 1.0000\nEpoch 77/150\n2061/2061 [==============================] - 1s 329us/step - loss: 2.5521e-05 - accuracy: 1.0000 - val_loss: 2.2642e-05 - val_accuracy: 1.0000\nEpoch 78/150\n2061/2061 [==============================] - 1s 334us/step - loss: 2.3106e-05 - accuracy: 1.0000 - val_loss: 2.0255e-05 - val_accuracy: 1.0000\nEpoch 79/150\n2061/2061 [==============================] - 1s 322us/step - loss: 2.0772e-05 - accuracy: 1.0000 - val_loss: 1.8134e-05 - val_accuracy: 1.0000\nEpoch 80/150\n2061/2061 [==============================] - 1s 320us/step - loss: 1.8446e-05 - accuracy: 1.0000 - val_loss: 1.6268e-05 - val_accuracy: 1.0000\nEpoch 81/150\n2061/2061 [==============================] - 1s 343us/step - loss: 1.6554e-05 - accuracy: 1.0000 - val_loss: 1.4631e-05 - val_accuracy: 1.0000\nEpoch 82/150\n2061/2061 [==============================] - 1s 421us/step - loss: 1.4604e-05 - accuracy: 1.0000 - val_loss: 1.3107e-05 - val_accuracy: 1.0000\nEpoch 83/150\n2061/2061 [==============================] - 1s 367us/step - loss: 1.3282e-05 - accuracy: 1.0000 - val_loss: 1.1834e-05 - val_accuracy: 1.0000\nEpoch 84/150\n2061/2061 [==============================] - 1s 323us/step - loss: 1.1865e-05 - accuracy: 1.0000 - val_loss: 1.0448e-05 - val_accuracy: 1.0000\nEpoch 85/150\n2061/2061 [==============================] - 1s 324us/step - loss: 1.0639e-05 - accuracy: 1.0000 - val_loss: 9.4601e-06 - val_accuracy: 1.0000\nEpoch 86/150\n2061/2061 [==============================] - 1s 308us/step - loss: 9.4832e-06 - accuracy: 1.0000 - val_loss: 8.4628e-06 - val_accuracy: 1.0000\nEpoch 87/150\n2061/2061 [==============================] - 1s 306us/step - loss: 8.6363e-06 - accuracy: 1.0000 - val_loss: 7.5493e-06 - val_accuracy: 1.0000\nEpoch 88/150\n2061/2061 [==============================] - 1s 300us/step - loss: 7.6128e-06 - accuracy: 1.0000 - val_loss: 6.7264e-06 - val_accuracy: 1.0000\nEpoch 89/150\n2061/2061 [==============================] - 1s 303us/step - loss: 6.8620e-06 - accuracy: 1.0000 - val_loss: 6.0286e-06 - val_accuracy: 1.0000\nEpoch 90/150\n2061/2061 [==============================] - 1s 344us/step - loss: 6.1163e-06 - accuracy: 1.0000 - val_loss: 5.4417e-06 - val_accuracy: 1.0000\nEpoch 91/150\n2061/2061 [==============================] - 1s 307us/step - loss: 5.4715e-06 - accuracy: 1.0000 - val_loss: 4.8570e-06 - val_accuracy: 1.0000\nEpoch 92/150\n2061/2061 [==============================] - 1s 305us/step - loss: 4.9358e-06 - accuracy: 1.0000 - val_loss: 4.3709e-06 - val_accuracy: 1.0000\nEpoch 93/150\n2061/2061 [==============================] - 1s 313us/step - loss: 4.4228e-06 - accuracy: 1.0000 - val_loss: 3.9404e-06 - val_accuracy: 1.0000\nEpoch 94/150\n2061/2061 [==============================] - 1s 309us/step - loss: 4.0008e-06 - accuracy: 1.0000 - val_loss: 3.5227e-06 - val_accuracy: 1.0000\nEpoch 95/150\n2061/2061 [==============================] - 1s 300us/step - loss: 3.5826e-06 - accuracy: 1.0000 - val_loss: 3.1582e-06 - val_accuracy: 1.0000\nEpoch 96/150\n2061/2061 [==============================] - 1s 298us/step - loss: 3.2444e-06 - accuracy: 1.0000 - val_loss: 2.8441e-06 - val_accuracy: 1.0000\nEpoch 97/150\n2061/2061 [==============================] - 1s 320us/step - loss: 2.8773e-06 - accuracy: 1.0000 - val_loss: 2.5442e-06 - val_accuracy: 1.0000\nEpoch 98/150\n2061/2061 [==============================] - 1s 327us/step - loss: 2.6009e-06 - accuracy: 1.0000 - val_loss: 2.2901e-06 - val_accuracy: 1.0000\nEpoch 99/150\n2061/2061 [==============================] - 1s 304us/step - loss: 2.3135e-06 - accuracy: 1.0000 - val_loss: 2.0604e-06 - val_accuracy: 1.0000\nEpoch 100/150\n2061/2061 [==============================] - 1s 312us/step - loss: 2.0685e-06 - accuracy: 1.0000 - val_loss: 1.8711e-06 - val_accuracy: 1.0000\nEpoch 101/150\n2061/2061 [==============================] - 1s 325us/step - loss: 1.8832e-06 - accuracy: 1.0000 - val_loss: 1.6717e-06 - val_accuracy: 1.0000\nEpoch 102/150\n2061/2061 [==============================] - 1s 300us/step - loss: 1.6961e-06 - accuracy: 1.0000 - val_loss: 1.4930e-06 - val_accuracy: 1.0000\nEpoch 103/150\n2061/2061 [==============================] - 1s 298us/step - loss: 1.5216e-06 - accuracy: 1.0000 - val_loss: 1.3532e-06 - val_accuracy: 1.0000\nEpoch 104/150\n2061/2061 [==============================] - 1s 299us/step - loss: 1.3587e-06 - accuracy: 1.0000 - val_loss: 1.2080e-06 - val_accuracy: 1.0000\nEpoch 105/150\n2061/2061 [==============================] - 1s 335us/step - loss: 1.2312e-06 - accuracy: 1.0000 - val_loss: 1.0895e-06 - val_accuracy: 1.0000\nEpoch 106/150\n2061/2061 [==============================] - 1s 317us/step - loss: 1.1036e-06 - accuracy: 1.0000 - val_loss: 9.7716e-07 - val_accuracy: 1.0000\nEpoch 107/150\n2061/2061 [==============================] - 1s 300us/step - loss: 9.9058e-07 - accuracy: 1.0000 - val_loss: 8.8094e-07 - val_accuracy: 1.0000\nEpoch 108/150\n2061/2061 [==============================] - 1s 296us/step - loss: 8.8323e-07 - accuracy: 1.0000 - val_loss: 7.9767e-07 - val_accuracy: 1.0000\nEpoch 109/150\n2061/2061 [==============================] - 1s 304us/step - loss: 8.0495e-07 - accuracy: 1.0000 - val_loss: 7.1806e-07 - val_accuracy: 1.0000\nEpoch 110/150\n2061/2061 [==============================] - 1s 390us/step - loss: 7.3195e-07 - accuracy: 1.0000 - val_loss: 6.4312e-07 - val_accuracy: 1.0000\nEpoch 111/150\n2061/2061 [==============================] - 1s 357us/step - loss: 6.4970e-07 - accuracy: 1.0000 - val_loss: 5.8084e-07 - val_accuracy: 1.0000\nEpoch 112/150\n2061/2061 [==============================] - 1s 348us/step - loss: 5.8766e-07 - accuracy: 1.0000 - val_loss: 5.2222e-07 - val_accuracy: 1.0000\nEpoch 113/150\n2061/2061 [==============================] - 1s 356us/step - loss: 5.2842e-07 - accuracy: 1.0000 - val_loss: 4.7214e-07 - val_accuracy: 1.0000\nEpoch 114/150\n2061/2061 [==============================] - 1s 329us/step - loss: 4.8255e-07 - accuracy: 1.0000 - val_loss: 4.2589e-07 - val_accuracy: 1.0000\nEpoch 115/150\n2061/2061 [==============================] - 1s 342us/step - loss: 4.3288e-07 - accuracy: 1.0000 - val_loss: 3.8447e-07 - val_accuracy: 1.0000\nEpoch 116/150\n2061/2061 [==============================] - 1s 339us/step - loss: 3.8821e-07 - accuracy: 1.0000 - val_loss: 3.4877e-07 - val_accuracy: 1.0000\nEpoch 117/150\n2061/2061 [==============================] - 1s 343us/step - loss: 3.5272e-07 - accuracy: 1.0000 - val_loss: 3.1343e-07 - val_accuracy: 1.0000\nEpoch 118/150\n2061/2061 [==============================] - 1s 337us/step - loss: 3.1758e-07 - accuracy: 1.0000 - val_loss: 2.8302e-07 - val_accuracy: 1.0000\nEpoch 119/150\n2061/2061 [==============================] - 1s 336us/step - loss: 2.8550e-07 - accuracy: 1.0000 - val_loss: 2.5693e-07 - val_accuracy: 1.0000\nEpoch 120/150\n2061/2061 [==============================] - 1s 361us/step - loss: 2.5900e-07 - accuracy: 1.0000 - val_loss: 2.3219e-07 - val_accuracy: 1.0000\nEpoch 121/150\n2061/2061 [==============================] - 1s 346us/step - loss: 2.3283e-07 - accuracy: 1.0000 - val_loss: 2.1220e-07 - val_accuracy: 1.0000\nEpoch 122/150\n2061/2061 [==============================] - 1s 341us/step - loss: 2.1326e-07 - accuracy: 1.0000 - val_loss: 1.9118e-07 - val_accuracy: 1.0000\nEpoch 123/150\n2061/2061 [==============================] - 1s 349us/step - loss: 1.9398e-07 - accuracy: 1.0000 - val_loss: 1.7308e-07 - val_accuracy: 1.0000\nEpoch 124/150\n2061/2061 [==============================] - 1s 336us/step - loss: 1.7385e-07 - accuracy: 1.0000 - val_loss: 1.5718e-07 - val_accuracy: 1.0000\nEpoch 125/150\n2061/2061 [==============================] - 1s 327us/step - loss: 1.5810e-07 - accuracy: 1.0000 - val_loss: 1.4289e-07 - val_accuracy: 1.0000\nEpoch 126/150\n2061/2061 [==============================] - 1s 328us/step - loss: 1.4505e-07 - accuracy: 1.0000 - val_loss: 1.3086e-07 - val_accuracy: 1.0000\nEpoch 127/150\n2061/2061 [==============================] - 1s 387us/step - loss: 1.3152e-07 - accuracy: 1.0000 - val_loss: 1.1904e-07 - val_accuracy: 1.0000\nEpoch 128/150\n2061/2061 [==============================] - 1s 353us/step - loss: 1.2017e-07 - accuracy: 1.0000 - val_loss: 1.0774e-07 - val_accuracy: 1.0000\nEpoch 129/150\n2061/2061 [==============================] - 1s 339us/step - loss: 1.0912e-07 - accuracy: 1.0000 - val_loss: 9.7948e-08 - val_accuracy: 1.0000\nEpoch 130/150\n2061/2061 [==============================] - 1s 319us/step - loss: 9.8734e-08 - accuracy: 1.0000 - val_loss: 8.9556e-08 - val_accuracy: 1.0000\nEpoch 131/150\n2061/2061 [==============================] - 1s 318us/step - loss: 9.0746e-08 - accuracy: 1.0000 - val_loss: 8.2333e-08 - val_accuracy: 1.0000\nEpoch 132/150\n2061/2061 [==============================] - 1s 313us/step - loss: 8.2301e-08 - accuracy: 1.0000 - val_loss: 7.5011e-08 - val_accuracy: 1.0000\nEpoch 133/150\n2061/2061 [==============================] - 1s 316us/step - loss: 7.5561e-08 - accuracy: 1.0000 - val_loss: 6.8525e-08 - val_accuracy: 1.0000\nEpoch 134/150\n2061/2061 [==============================] - 1s 371us/step - loss: 6.9131e-08 - accuracy: 1.0000 - val_loss: 6.2978e-08 - val_accuracy: 1.0000\nEpoch 135/150\n2061/2061 [==============================] - 1s 334us/step - loss: 6.3749e-08 - accuracy: 1.0000 - val_loss: 5.7975e-08 - val_accuracy: 1.0000\nEpoch 136/150\n2061/2061 [==============================] - 1s 321us/step - loss: 5.8181e-08 - accuracy: 1.0000 - val_loss: 5.3108e-08 - val_accuracy: 1.0000\nEpoch 137/150\n2061/2061 [==============================] - 1s 323us/step - loss: 5.3642e-08 - accuracy: 1.0000 - val_loss: 4.9028e-08 - val_accuracy: 1.0000\nEpoch 138/150\n2061/2061 [==============================] - 1s 346us/step - loss: 4.9349e-08 - accuracy: 1.0000 - val_loss: 4.5153e-08 - val_accuracy: 1.0000\nEpoch 139/150\n2061/2061 [==============================] - 1s 325us/step - loss: 4.5347e-08 - accuracy: 1.0000 - val_loss: 4.1475e-08 - val_accuracy: 1.0000\nEpoch 140/150\n2061/2061 [==============================] - 1s 334us/step - loss: 4.2265e-08 - accuracy: 1.0000 - val_loss: 3.8387e-08 - val_accuracy: 1.0000\nEpoch 141/150\n2061/2061 [==============================] - 1s 365us/step - loss: 3.8953e-08 - accuracy: 1.0000 - val_loss: 3.5741e-08 - val_accuracy: 1.0000\nEpoch 142/150\n2061/2061 [==============================] - 1s 337us/step - loss: 3.6094e-08 - accuracy: 1.0000 - val_loss: 3.2904e-08 - val_accuracy: 1.0000\nEpoch 143/150\n2061/2061 [==============================] - 1s 328us/step - loss: 3.3164e-08 - accuracy: 1.0000 - val_loss: 3.0522e-08 - val_accuracy: 1.0000\nEpoch 144/150\n2061/2061 [==============================] - 1s 325us/step - loss: 3.0924e-08 - accuracy: 1.0000 - val_loss: 2.8403e-08 - val_accuracy: 1.0000\nEpoch 145/150\n2061/2061 [==============================] - 1s 331us/step - loss: 2.8723e-08 - accuracy: 1.0000 - val_loss: 2.6764e-08 - val_accuracy: 1.0000\nEpoch 146/150\n2061/2061 [==============================] - 1s 335us/step - loss: 2.6691e-08 - accuracy: 1.0000 - val_loss: 2.4707e-08 - val_accuracy: 1.0000\nEpoch 147/150\n2061/2061 [==============================] - 1s 340us/step - loss: 2.5017e-08 - accuracy: 1.0000 - val_loss: 2.3101e-08 - val_accuracy: 1.0000\nEpoch 148/150\n2061/2061 [==============================] - 1s 356us/step - loss: 2.3414e-08 - accuracy: 1.0000 - val_loss: 2.1620e-08 - val_accuracy: 1.0000\nEpoch 149/150\n2061/2061 [==============================] - 1s 351us/step - loss: 2.1687e-08 - accuracy: 1.0000 - val_loss: 2.0424e-08 - val_accuracy: 1.0000\nEpoch 150/150\n2061/2061 [==============================] - 1s 364us/step - loss: 2.0698e-08 - accuracy: 1.0000 - val_loss: 1.9067e-08 - val_accuracy: 1.0000\n"
    },
    {
     "output_type": "execute_result",
     "data": {
      "text/plain": "<keras.callbacks.callbacks.History at 0x1ccd8ca0cc8>"
     },
     "metadata": {},
     "execution_count": 11
    }
   ],
   "source": [
    "model.fit(xt, yt, batch_size=10, epochs=150, validation_data=(xt, yt))"
   ]
  },
  {
   "cell_type": "code",
   "execution_count": 12,
   "metadata": {},
   "outputs": [
    {
     "output_type": "stream",
     "name": "stdout",
     "text": "2061/2061 [==============================] - 0s 78us/step\n"
    }
   ],
   "source": [
    "loss, acc = model.evaluate(xt, yt)"
   ]
  },
  {
   "cell_type": "code",
   "execution_count": 13,
   "metadata": {},
   "outputs": [
    {
     "output_type": "execute_result",
     "data": {
      "text/plain": "1.9066652538014572e-08"
     },
     "metadata": {},
     "execution_count": 13
    }
   ],
   "source": [
    "loss"
   ]
  },
  {
   "cell_type": "code",
   "execution_count": 14,
   "metadata": {},
   "outputs": [
    {
     "output_type": "execute_result",
     "data": {
      "text/plain": "1.0"
     },
     "metadata": {},
     "execution_count": 14
    }
   ],
   "source": [
    "acc"
   ]
  },
  {
   "cell_type": "code",
   "execution_count": 24,
   "metadata": {},
   "outputs": [
    {
     "output_type": "execute_result",
     "data": {
      "text/plain": "array([[1.]], dtype=float32)"
     },
     "metadata": {},
     "execution_count": 24
    }
   ],
   "source": [
    "model.predict(x[4])"
   ]
  },
  {
   "cell_type": "code",
   "execution_count": 25,
   "metadata": {},
   "outputs": [
    {
     "output_type": "execute_result",
     "data": {
      "text/plain": "1"
     },
     "metadata": {},
     "execution_count": 25
    }
   ],
   "source": [
    "y[4]"
   ]
  },
  {
   "cell_type": "code",
   "execution_count": null,
   "metadata": {},
   "outputs": [],
   "source": []
  }
 ],
 "metadata": {
  "kernelspec": {
   "display_name": "Python 3.7.6 64-bit ('base': conda)",
   "language": "python",
   "name": "python37664bitbaseconda18145824f8e54d23b9158b23365064a6"
  },
  "language_info": {
   "codemirror_mode": {
    "name": "ipython",
    "version": 3
   },
   "file_extension": ".py",
   "mimetype": "text/x-python",
   "name": "python",
   "nbconvert_exporter": "python",
   "pygments_lexer": "ipython3",
   "version": "3.7.6-final"
  }
 },
 "nbformat": 4,
 "nbformat_minor": 4
}