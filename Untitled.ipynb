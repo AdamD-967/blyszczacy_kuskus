{
 "cells": [
  {
   "cell_type": "code",
   "execution_count": 1,
   "metadata": {},
   "outputs": [],
   "source": [
    "from selenium.webdriver import Chrome\n",
    "from selenium.webdriver.chrome.options import Options\n",
    "from selenium.webdriver.support.ui import WebDriverWait\n",
    "from selenium.webdriver.support import expected_conditions as EC\n",
    "from selenium.webdriver.common.by import By"
   ]
  },
  {
   "cell_type": "code",
   "execution_count": 2,
   "metadata": {},
   "outputs": [
    {
     "name": "stdin",
     "output_type": "stream",
     "text": [
      "podaj dawkę elementów:  1\n",
      "podaj pin:  872937\n",
      "podaj wiadomość:  yep\n"
     ]
    }
   ],
   "source": [
    "ank = r\"https://www.mentimeter.com/\"\n",
    "xent = r\"/html/body/div[1]/div[1]/header/div/div/form/input\"\n",
    "xent1 = r\"/html/body/div[1]/div/div[2]/div[1]/form/fieldset/div/div/input\"\n",
    "xsub = r\"/html/body/div[1]/div/div[2]/div[1]/form/div/button\"\n",
    "xtest = r\"/html/body/div[1]/div/div[2]/div[1]/div[2]/h1\"\n",
    "\n",
    "ran = int(input(\"podaj dawkę elementów: \"))\n",
    "code = input(\"podaj pin: \")\n",
    "mes = input(\"podaj wiadomość: \")"
   ]
  },
  {
   "cell_type": "code",
   "execution_count": 4,
   "metadata": {},
   "outputs": [],
   "source": [
    "driver = Chrome()\n",
    "driver.get(ank)"
   ]
  },
  {
   "cell_type": "code",
   "execution_count": 5,
   "metadata": {},
   "outputs": [],
   "source": [
    "ent = driver.find_element_by_xpath(xent)\n",
    "ent.send_keys(code)\n",
    "ent.submit()"
   ]
  },
  {
   "cell_type": "code",
   "execution_count": 6,
   "metadata": {},
   "outputs": [],
   "source": [
    "ent1 = driver.find_element_by_xpath(xent1)\n",
    "ent1.send_keys(mes)\n",
    "sub = driver.find_element_by_xpath(xsub)"
   ]
  },
  {
   "cell_type": "code",
   "execution_count": 7,
   "metadata": {},
   "outputs": [],
   "source": [
    "sub.click()"
   ]
  },
  {
   "cell_type": "code",
   "execution_count": 8,
   "metadata": {},
   "outputs": [],
   "source": [
    "driver.close()"
   ]
  },
  {
   "cell_type": "code",
   "execution_count": null,
   "metadata": {},
   "outputs": [],
   "source": []
  }
 ],
 "metadata": {
  "kernelspec": {
   "display_name": "Python 3.8.0 32-bit",
   "language": "python",
   "name": "python38032bit18ab3233d96c4b918b54f2e680080dec"
  },
  "language_info": {
   "codemirror_mode": {
    "name": "ipython",
    "version": 3
   },
   "file_extension": ".py",
   "mimetype": "text/x-python",
   "name": "python",
   "nbconvert_exporter": "python",
   "pygments_lexer": "ipython3",
   "version": "3.8.0"
  }
 },
 "nbformat": 4,
 "nbformat_minor": 4
}
